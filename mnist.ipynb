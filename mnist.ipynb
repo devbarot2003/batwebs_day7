{
 "cells": [
  {
   "cell_type": "code",
   "execution_count": 1,
   "metadata": {
    "execution": {
     "iopub.execute_input": "2023-11-26T10:47:55.842611Z",
     "iopub.status.busy": "2023-11-26T10:47:55.84217Z",
     "iopub.status.idle": "2023-11-26T10:47:55.850183Z",
     "shell.execute_reply": "2023-11-26T10:47:55.848873Z",
     "shell.execute_reply.started": "2023-11-26T10:47:55.842577Z"
    }
   },
   "outputs": [
    {
     "ename": "ModuleNotFoundError",
     "evalue": "No module named 'tensorflow'",
     "output_type": "error",
     "traceback": [
      "\u001b[1;31m---------------------------------------------------------------------------\u001b[0m",
      "\u001b[1;31mModuleNotFoundError\u001b[0m                       Traceback (most recent call last)",
      "Cell \u001b[1;32mIn[1], line 3\u001b[0m\n\u001b[0;32m      1\u001b[0m \u001b[38;5;66;03m#import libraries\u001b[39;00m\n\u001b[0;32m      2\u001b[0m \u001b[38;5;28;01mimport\u001b[39;00m \u001b[38;5;21;01mnumpy\u001b[39;00m \u001b[38;5;28;01mas\u001b[39;00m \u001b[38;5;21;01mnp\u001b[39;00m\n\u001b[1;32m----> 3\u001b[0m \u001b[38;5;28;01mimport\u001b[39;00m \u001b[38;5;21;01mtensorflow\u001b[39;00m \u001b[38;5;28;01mas\u001b[39;00m \u001b[38;5;21;01mtf\u001b[39;00m\n\u001b[0;32m      4\u001b[0m \u001b[38;5;28;01mimport\u001b[39;00m \u001b[38;5;21;01mmatplotlib\u001b[39;00m\u001b[38;5;21;01m.\u001b[39;00m\u001b[38;5;21;01mpyplot\u001b[39;00m \u001b[38;5;28;01mas\u001b[39;00m \u001b[38;5;21;01mplt\u001b[39;00m\n\u001b[0;32m      5\u001b[0m \u001b[38;5;28;01mimport\u001b[39;00m \u001b[38;5;21;01mpandas\u001b[39;00m \u001b[38;5;28;01mas\u001b[39;00m \u001b[38;5;21;01mpd\u001b[39;00m\n",
      "\u001b[1;31mModuleNotFoundError\u001b[0m: No module named 'tensorflow'"
     ]
    }
   ],
   "source": [
    "#import libraries\n",
    "import numpy as np\n",
    "import tensorflow as tf\n",
    "import matplotlib.pyplot as plt\n",
    "import pandas as pd\n",
    "\n",
    "from tensorflow.keras import Model\n",
    "from tensorflow.keras.models import Sequential\n",
    "from tensorflow.keras.losses import categorical_crossentropy\n",
    "from tensorflow.keras.layers import Dense, Flatten, Conv2D, AveragePooling2D\n",
    "\n",
    "from tensorflow.keras import datasets\n",
    "from tensorflow.keras.utils import to_categorical\n",
    "import tensorflow.keras as keras\n",
    "from tensorflow.keras.utils import  plot_model"
   ]
  },
  {
   "cell_type": "code",
   "execution_count": null,
   "metadata": {
    "execution": {
     "iopub.execute_input": "2023-11-26T10:47:55.85259Z",
     "iopub.status.busy": "2023-11-26T10:47:55.852192Z",
     "iopub.status.idle": "2023-11-26T10:47:56.183891Z",
     "shell.execute_reply": "2023-11-26T10:47:56.182651Z",
     "shell.execute_reply.started": "2023-11-26T10:47:55.85256Z"
    }
   },
   "outputs": [],
   "source": [
    "#load dataset\n",
    "(x_train, y_train), (x_test, y_test) = datasets.mnist.load_data()"
   ]
  },
  {
   "cell_type": "code",
   "execution_count": null,
   "metadata": {
    "execution": {
     "iopub.execute_input": "2023-11-26T10:47:56.185841Z",
     "iopub.status.busy": "2023-11-26T10:47:56.185468Z",
     "iopub.status.idle": "2023-11-26T10:47:56.19048Z",
     "shell.execute_reply": "2023-11-26T10:47:56.189283Z",
     "shell.execute_reply.started": "2023-11-26T10:47:56.185811Z"
    }
   },
   "outputs": [],
   "source": [
    "# Add a new axis\n",
    "x_train = x_train[:, :, :, np.newaxis]\n",
    "x_test = x_test[:, :, :, np.newaxis]"
   ]
  },
  {
   "cell_type": "markdown",
   "metadata": {},
   "source": [
    "## Preprocessing"
   ]
  },
  {
   "cell_type": "code",
   "execution_count": null,
   "metadata": {
    "execution": {
     "iopub.execute_input": "2023-11-26T10:47:56.193084Z",
     "iopub.status.busy": "2023-11-26T10:47:56.192446Z",
     "iopub.status.idle": "2023-11-26T10:47:56.205516Z",
     "shell.execute_reply": "2023-11-26T10:47:56.204542Z",
     "shell.execute_reply.started": "2023-11-26T10:47:56.193052Z"
    }
   },
   "outputs": [],
   "source": [
    "#encoding labels\n",
    "y_train = to_categorical(y_train, 10)\n",
    "y_test = to_categorical(y_test, 10)"
   ]
  },
  {
   "cell_type": "code",
   "execution_count": null,
   "metadata": {
    "execution": {
     "iopub.execute_input": "2023-11-26T10:47:56.207682Z",
     "iopub.status.busy": "2023-11-26T10:47:56.206687Z",
     "iopub.status.idle": "2023-11-26T10:47:56.36192Z",
     "shell.execute_reply": "2023-11-26T10:47:56.360675Z",
     "shell.execute_reply.started": "2023-11-26T10:47:56.207638Z"
    }
   },
   "outputs": [],
   "source": [
    "#data standarization\n",
    "x_train = x_train / 255.0\n",
    "x_test = x_test / 255.0"
   ]
  },
  {
   "cell_type": "code",
   "execution_count": null,
   "metadata": {
    "execution": {
     "iopub.execute_input": "2023-11-26T10:47:56.363572Z",
     "iopub.status.busy": "2023-11-26T10:47:56.363225Z",
     "iopub.status.idle": "2023-11-26T10:47:57.039532Z",
     "shell.execute_reply": "2023-11-26T10:47:57.038283Z",
     "shell.execute_reply.started": "2023-11-26T10:47:56.363543Z"
    }
   },
   "outputs": [],
   "source": [
    "#data visualization\n",
    "plt.figure(figsize=(10, 6))\n",
    "for i in range(9):\n",
    "  plt.subplot(3, 3, i + 1)\n",
    "  plt.imshow(x_train[i], cmap='gray')\n",
    "  plt.axis('off')\n",
    "  plt.title('Digit {}'.format(y_train[i]))\n",
    "plt.tight_layout()\n",
    "plt.show()"
   ]
  },
  {
   "cell_type": "markdown",
   "metadata": {},
   "source": [
    "## Model"
   ]
  },
  {
   "cell_type": "code",
   "execution_count": null,
   "metadata": {
    "execution": {
     "iopub.execute_input": "2023-11-26T10:47:57.041102Z",
     "iopub.status.busy": "2023-11-26T10:47:57.040762Z",
     "iopub.status.idle": "2023-11-26T10:47:57.135793Z",
     "shell.execute_reply": "2023-11-26T10:47:57.13461Z",
     "shell.execute_reply.started": "2023-11-26T10:47:57.041074Z"
    }
   },
   "outputs": [],
   "source": [
    "#training model\n",
    "model = Sequential()\n",
    "# Layer 1 Conv2D\n",
    "model.add(Conv2D(filters=6, kernel_size=(5, 5), strides=(1, 1), activation='tanh', input_shape=x_train[0].shape, padding=\"same\"))\n",
    "# Layer 2 Pooling Layer\n",
    "model.add(AveragePooling2D(pool_size=(2, 2), strides=(2, 2), padding='valid'))\n",
    "# Layer 3 Conv2D\n",
    "model.add(Conv2D(filters=16, kernel_size=(5, 5), strides=(1, 1), activation='tanh', padding='valid'))\n",
    "# Layer 4 Pooling Layer\n",
    "model.add(AveragePooling2D(pool_size=(2, 2), strides=(2, 2), padding='valid'))\n",
    "model.add(Flatten())\n",
    "model.add(Dense(units=120, activation='tanh'))\n",
    "model.add(Dense(units=84, activation='tanh'))\n",
    "model.add(Dense(units=10, activation='softmax'))\n",
    "model.compile(optimizer='adam',loss=categorical_crossentropy,metrics=['accuracy'])"
   ]
  },
  {
   "cell_type": "code",
   "execution_count": null,
   "metadata": {
    "execution": {
     "iopub.execute_input": "2023-11-26T10:47:57.138301Z",
     "iopub.status.busy": "2023-11-26T10:47:57.137492Z",
     "iopub.status.idle": "2023-11-26T10:47:57.16787Z",
     "shell.execute_reply": "2023-11-26T10:47:57.166755Z",
     "shell.execute_reply.started": "2023-11-26T10:47:57.138266Z"
    }
   },
   "outputs": [],
   "source": [
    "#number of trainable parameters\n",
    "model.summary()"
   ]
  },
  {
   "cell_type": "code",
   "execution_count": null,
   "metadata": {
    "execution": {
     "iopub.execute_input": "2023-11-26T10:47:57.169741Z",
     "iopub.status.busy": "2023-11-26T10:47:57.169302Z",
     "iopub.status.idle": "2023-11-26T10:51:53.805788Z",
     "shell.execute_reply": "2023-11-26T10:51:53.804827Z",
     "shell.execute_reply.started": "2023-11-26T10:47:57.169702Z"
    }
   },
   "outputs": [],
   "source": [
    "model.fit(x_train, y=y_train,epochs=10)"
   ]
  },
  {
   "cell_type": "code",
   "execution_count": null,
   "metadata": {
    "execution": {
     "iopub.execute_input": "2023-11-26T10:51:53.810926Z",
     "iopub.status.busy": "2023-11-26T10:51:53.809757Z",
     "iopub.status.idle": "2023-11-26T10:51:53.914017Z",
     "shell.execute_reply": "2023-11-26T10:51:53.912853Z",
     "shell.execute_reply.started": "2023-11-26T10:51:53.810883Z"
    }
   },
   "outputs": [],
   "source": [
    "#model architecture\n",
    "keras.utils.plot_model(model, to_file='model_1.png', show_shapes=True)"
   ]
  },
  {
   "cell_type": "markdown",
   "metadata": {},
   "source": [
    "## Confusion matrix"
   ]
  },
  {
   "cell_type": "code",
   "execution_count": null,
   "metadata": {
    "execution": {
     "iopub.execute_input": "2023-11-26T10:51:53.915926Z",
     "iopub.status.busy": "2023-11-26T10:51:53.915559Z",
     "iopub.status.idle": "2023-11-26T10:51:56.605445Z",
     "shell.execute_reply": "2023-11-26T10:51:56.604269Z",
     "shell.execute_reply.started": "2023-11-26T10:51:53.915896Z"
    }
   },
   "outputs": [],
   "source": [
    "from sklearn.metrics import confusion_matrix\n",
    "confusion = confusion_matrix(np.argmax(y_test,axis=1),np.argmax(model.predict(x_test),axis=1),labels=list(np.arange(0,10)))"
   ]
  },
  {
   "cell_type": "code",
   "execution_count": null,
   "metadata": {
    "execution": {
     "iopub.execute_input": "2023-11-26T10:51:56.6081Z",
     "iopub.status.busy": "2023-11-26T10:51:56.606681Z",
     "iopub.status.idle": "2023-11-26T10:51:57.246819Z",
     "shell.execute_reply": "2023-11-26T10:51:57.245681Z",
     "shell.execute_reply.started": "2023-11-26T10:51:56.608065Z"
    }
   },
   "outputs": [],
   "source": [
    "import seaborn as sns\n",
    "fig, ax = plt.subplots(figsize=(10,8)) \n",
    "sns.heatmap(confusion, annot=True,ax=ax,fmt=\"d\",linewidths=.5,cmap=sns.color_palette(\"Blues\"));\n",
    "plt.ylim([ 10,-0.5,]);\n",
    "plt.ylabel('True label')\n",
    "plt.xlabel('Predicted label')"
   ]
  },
  {
   "cell_type": "markdown",
   "metadata": {},
   "source": [
    "## Precision, Recall, F1-score"
   ]
  },
  {
   "cell_type": "code",
   "execution_count": null,
   "metadata": {
    "execution": {
     "iopub.execute_input": "2023-11-26T10:51:57.249495Z",
     "iopub.status.busy": "2023-11-26T10:51:57.248365Z",
     "iopub.status.idle": "2023-11-26T10:52:02.598657Z",
     "shell.execute_reply": "2023-11-26T10:52:02.597555Z",
     "shell.execute_reply.started": "2023-11-26T10:51:57.249451Z"
    }
   },
   "outputs": [],
   "source": [
    "from sklearn.metrics import classification_report\n",
    "target_names = [\"Class 0\", \"Class 1\", \"Class 2\", \"Class 3\", \"Class 4\", \"Class 5\", \"Class 6\", \"Class 7\", \"Class 8\", \"Class 9\"]\n",
    "print(classification_report(np.argmax(y_test,axis=1),np.argmax(model.predict(x_test),axis=1), target_names=target_names))\n",
    "report = classification_report(np.argmax(y_test, axis=1), np.argmax(model.predict(x_test), axis=1), target_names=target_names, output_dict=True)"
   ]
  },
  {
   "cell_type": "code",
   "execution_count": null,
   "metadata": {
    "execution": {
     "iopub.execute_input": "2023-11-26T10:52:02.600567Z",
     "iopub.status.busy": "2023-11-26T10:52:02.600093Z",
     "iopub.status.idle": "2023-11-26T10:52:03.105331Z",
     "shell.execute_reply": "2023-11-26T10:52:03.104437Z",
     "shell.execute_reply.started": "2023-11-26T10:52:02.600525Z"
    }
   },
   "outputs": [],
   "source": [
    "report_data = report\n",
    "report_df = pd.DataFrame(report_data).transpose()\n",
    "\n",
    "plt.figure(figsize=(10, 6))\n",
    "sns.heatmap(report_df, annot=True, cmap=\"YlGnBu\", fmt=\".2f\")\n",
    "plt.title(\"Classification Report Heatmap\")\n",
    "plt.show()"
   ]
  }
 ],
 "metadata": {
  "kaggle": {
   "accelerator": "none",
   "dataSources": [
    {
     "datasetId": 102285,
     "sourceId": 242592,
     "sourceType": "datasetVersion"
    }
   ],
   "dockerImageVersionId": 30558,
   "isGpuEnabled": false,
   "isInternetEnabled": false,
   "language": "python",
   "sourceType": "notebook"
  },
  "kernelspec": {
   "display_name": "Python 3 (ipykernel)",
   "language": "python",
   "name": "python3"
  },
  "language_info": {
   "codemirror_mode": {
    "name": "ipython",
    "version": 3
   },
   "file_extension": ".py",
   "mimetype": "text/x-python",
   "name": "python",
   "nbconvert_exporter": "python",
   "pygments_lexer": "ipython3",
   "version": "3.11.3"
  }
 },
 "nbformat": 4,
 "nbformat_minor": 4
}
